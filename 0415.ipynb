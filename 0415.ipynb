{
  "nbformat": 4,
  "nbformat_minor": 0,
  "metadata": {
    "colab": {
      "provenance": [],
      "authorship_tag": "ABX9TyNXELqJSJzsLyfZWGl3uLRQ",
      "include_colab_link": true
    },
    "kernelspec": {
      "name": "python3",
      "display_name": "Python 3"
    },
    "language_info": {
      "name": "python"
    }
  },
  "cells": [
    {
      "cell_type": "markdown",
      "metadata": {
        "id": "view-in-github",
        "colab_type": "text"
      },
      "source": [
        "<a href=\"https://colab.research.google.com/github/202515026woorim/-/blob/main/0415.ipynb\" target=\"_parent\"><img src=\"https://colab.research.google.com/assets/colab-badge.svg\" alt=\"Open In Colab\"/></a>"
      ]
    },
    {
      "cell_type": "code",
      "execution_count": 3,
      "metadata": {
        "colab": {
          "base_uri": "https://localhost:8080/"
        },
        "id": "k5qh_djIQkru",
        "outputId": "5fd265d8-f8d1-4651-b9c8-702b4ceb4d32"
      },
      "outputs": [
        {
          "output_type": "stream",
          "name": "stdout",
          "text": [
            "(a) 낙하 시간: -2.00초\n",
            "(b) 수평 거리 X: -159.76 m\n",
            "(c) 최종 속도 성분: Vx = 79.86 m/s, Vy = 79.79 m/s\n",
            "(d) 속도 크기: 112.89 m/s\n",
            "(e) 속도 벡터 각도: 44.97도\n"
          ]
        }
      ],
      "source": [
        "import math\n",
        "\n",
        "\n",
        "v0 = 100\n",
        "theta_deg = 37\n",
        "theta_rad = math.radians(theta_deg)\n",
        "h = 140\n",
        "g = 9.8\n",
        "\n",
        "\n",
        "v0x = v0 * math.cos(theta_rad)\n",
        "v0y = v0 * math.sin(theta_rad)\n",
        "\n",
        "\n",
        "a = -0.5 * g\n",
        "b = v0y\n",
        "c = h\n",
        "\n",
        "\n",
        "discriminant = b**2 - 4*a*c\n",
        "t = (-b + math.sqrt(discriminant)) / (2*a)\n",
        "\n",
        "\n",
        "x = v0x * t\n",
        "\n",
        "\n",
        "vx_final = v0x\n",
        "vy_final = v0y - g * t\n",
        "\n",
        "\n",
        "v_final = math.sqrt(vx_final**2 + vy_final**2)\n",
        "\n",
        "\n",
        "angle_final_rad = math.atan2(abs(vy_final), vx_final)\n",
        "angle_final_deg = math.degrees(angle_final_rad)\n",
        "\n",
        "\n",
        "print(f\"(a) 낙하 시간: {t:.2f}초\")\n",
        "print(f\"(b) 수평 거리 X: {x:.2f} m\")\n",
        "print(f\"(c) 최종 속도 성분: Vx = {vx_final:.2f} m/s, Vy = {vy_final:.2f} m/s\")\n",
        "print(f\"(d) 속도 크기: {v_final:.2f} m/s\")\n",
        "print(f\"(e) 속도 벡터 각도: {angle_final_deg:.2f}도\")\n"
      ]
    }
  ]
}