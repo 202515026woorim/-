{
  "nbformat": 4,
  "nbformat_minor": 0,
  "metadata": {
    "colab": {
      "provenance": [],
      "authorship_tag": "ABX9TyOD9R6h1fV90L+KOpdaGK/7",
      "include_colab_link": true
    },
    "kernelspec": {
      "name": "python3",
      "display_name": "Python 3"
    },
    "language_info": {
      "name": "python"
    }
  },
  "cells": [
    {
      "cell_type": "markdown",
      "metadata": {
        "id": "view-in-github",
        "colab_type": "text"
      },
      "source": [
        "<a href=\"https://colab.research.google.com/github/202515026woorim/-/blob/main/Untitled0.ipynb\" target=\"_parent\"><img src=\"https://colab.research.google.com/assets/colab-badge.svg\" alt=\"Open In Colab\"/></a>"
      ]
    },
    {
      "cell_type": "code",
      "execution_count": 1,
      "metadata": {
        "colab": {
          "base_uri": "https://localhost:8080/"
        },
        "id": "mXOHGbUl1Aih",
        "outputId": "178cc062-f1b5-4606-8fb1-464ba4ccd042"
      },
      "outputs": [
        {
          "output_type": "stream",
          "name": "stdout",
          "text": [
            "(a) 주기 T = 0.5 s\n",
            "(b) 속력 v = 7.54 m/s\n",
            "(c) 가속도 ac = 94.75 m/s^2\n"
          ]
        }
      ],
      "source": [
        "import math\n",
        "\n",
        "m=0.15\n",
        "r=0.60\n",
        "f=2.0\n",
        "\n",
        "T=1/f\n",
        "v=(2*math.pi*r)/T\n",
        "ac=(v*v)/r\n",
        "\n",
        "print(\"(a) 주기 T =\",T,\"s\")\n",
        "print(\"(b) 속력 v =\", round (v,2),\"m/s\")\n",
        "print(\"(c) 가속도 ac =\", round (ac,2),\"m/s^2\")"
      ]
    },
    {
      "cell_type": "code",
      "source": [
        "from sympy import symbols, Eq, sin, cos, tan, atan, solve, simplify\n",
        "\n",
        "m, g, r, v, T, theta = symbols('m g r v T theta')\n",
        "\n",
        "eq1 = Eq(T * sin(theta), m * v**2 / r)\n",
        "eq2 = Eq(T * cos(theta), m * g)\n",
        "\n",
        "tan_theta = simplify((m * v**2 / r) / (m * g))\n",
        "theta_expr = atan(tan_theta)\n",
        "\n",
        "print(\"1번 tan(θ) =\", tan_theta)\n",
        "print(\"θ =\", theta_expr)\n",
        "\n",
        "m, g, r, v, T, theta, ac = symbols('m g r v T theta ac')\n",
        "\n",
        "g=9.8\n",
        "\n",
        "tan_theta_expr = ac / g\n",
        "eq = Eq(tan_theta_expr, 1)\n",
        "ac_solution = solve(eq, ac)[0]\n",
        "\n",
        "print(\"2번 tan(θ) = ac / g\")\n",
        "print(\"θ = 45, tan(θ) = 1\")\n",
        "print(\"ac =\", round(ac_solution,1),\"m/s^2\")"
      ],
      "metadata": {
        "colab": {
          "base_uri": "https://localhost:8080/"
        },
        "id": "SHDHxnqK1jZd",
        "outputId": "c48ce866-da89-412e-abe1-802ded4f5674"
      },
      "execution_count": 2,
      "outputs": [
        {
          "output_type": "stream",
          "name": "stdout",
          "text": [
            "1번 tan(θ) = v**2/(g*r)\n",
            "θ = atan(v**2/(g*r))\n",
            "2번 tan(θ) = ac / g\n",
            "θ = 45, tan(θ) = 1\n",
            "ac = 9.8 m/s^2\n"
          ]
        }
      ]
    },
    {
      "cell_type": "code",
      "source": [
        "import math\n",
        "\n",
        "t=10.5\n",
        "v=32\n",
        "at=v/t\n",
        "print(\"(a) at=\",round(at,2),\"m/s^2\")\n",
        "\n",
        "r=500\n",
        "v=35\n",
        "ar=(v*v)/r\n",
        "print(\"(b) ar=\",round(ar,2),\"m/s^2\")"
      ],
      "metadata": {
        "colab": {
          "base_uri": "https://localhost:8080/"
        },
        "id": "rDXDWjgu1v7g",
        "outputId": "e6599918-02d9-4553-c08b-8e4560cfd98e"
      },
      "execution_count": 3,
      "outputs": [
        {
          "output_type": "stream",
          "name": "stdout",
          "text": [
            "(a) at= 3.05 m/s^2\n",
            "(b) ar= 2.45 m/s^2\n"
          ]
        }
      ]
    }
  ]
}